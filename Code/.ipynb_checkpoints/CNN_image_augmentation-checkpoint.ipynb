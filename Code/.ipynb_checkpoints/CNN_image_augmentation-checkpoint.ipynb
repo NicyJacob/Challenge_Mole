{
 "cells": [
  {
   "cell_type": "code",
   "execution_count": null,
   "id": "93197757",
   "metadata": {},
   "outputs": [],
   "source": [
    "# libraries used\n",
    "import tensorflow as tf\n",
    "import pandas as pd\n",
    "import numpy as np\n",
    "import tensorflow as tf\n",
    "from tensorflow import keras\n",
    "from matplotlib import pyplot as plt\n",
    "%matplotlib inline\n",
    "from tensorflow.keras.preprocessing.image import ImageDataGenerator\n",
    "from tensorflow.keras.models import Sequential\n",
    "from tensorflow.keras.layers import Conv2D, MaxPooling2D, Flatten, Dense, Dropout\n",
    "from tensorflow.keras.optimizers import Adam\n",
    "import sklearn.metrics as metric\n",
    "import os\n",
    "import cv2\n",
    "import seaborn as sns\n",
    "import matplotlib.pyplot as plt\n",
    "from sklearn.metrics import confusion_matrix\n",
    "import gradio as gr\n",
    "import numpy as np\n",
    "from tensorflow.keras.preprocessing import image"
   ]
  },
  {
   "cell_type": "code",
   "execution_count": null,
   "id": "e1789c99",
   "metadata": {},
   "outputs": [],
   "source": [
    "import os\n",
    "print(os.getcwd())"
   ]
  },
  {
   "cell_type": "code",
   "execution_count": null,
   "id": "54fb8dea",
   "metadata": {
    "scrolled": true
   },
   "outputs": [],
   "source": [
    "def metadata_read(metadata_file):\n",
    "    '''Reading the metadata file and building label column with values malign and benign'''\n",
    "    metadata = pd.read_csv(metadata_file)\n",
    "    metadata = metadata.dropna(subset=['age'])\n",
    "    list_of_mal = ['akiec','bcc', 'mel']\n",
    "    metadata['label'] = np.where(metadata['dx'].isin(list_of_mal),'malign', None)\n",
    "    metadata = metadata.replace({'label': {None: 'benign'}})\n",
    "    metadata[\"image_id\"] = metadata[\"image_id\"].apply(lambda x: x + \".jpg\")\n",
    "    return(metadata)"
   ]
  },
  {
   "cell_type": "code",
   "execution_count": null,
   "id": "931b2daa",
   "metadata": {},
   "outputs": [],
   "source": [
    "def folder_label(metadata, malignfolder, benignfolder):\n",
    "    '''Function to read the images and split it into folders according to their label from metadata. \n",
    "    It also transforms images of the minority class - malign'''\n",
    "    # malign images\n",
    "    malign_images = metadata[metadata['label'] == 'malign']['image_id'].to_list()\n",
    "    for filename in malign_images:\n",
    "        image = cv2.imread(os.path.join(folder, filename))\n",
    "        cv2.imwrite(os.path.join(malignfolder,filename), image) # original image\n",
    "        flip_image = cv2.flip(image, flipCode=cv2.ROTATE_180)\n",
    "        flip_filename = 'flip'+filename\n",
    "        cv2.imwrite(os.path.join(malignfolder, flip_filename), flip_image) # flipped image\n",
    "        rotate_image = cv2.flip(image, flipCode=cv2.ROTATE_90_CLOCKWISE)\n",
    "        rotate_filename = 'rotate'+filename\n",
    "        cv2.imwrite(os.path.join(malignfolder, rotate_filename), rotate_image) # rotated image\n",
    "    \n",
    "    # benign images\n",
    "    benign_images = metadata[metadata['label'] == 'benign']['image_id'].to_list()\n",
    "    for filename in benign_images:\n",
    "        image = cv2.imread(os.path.join(folder, filename))\n",
    "        cv2.imwrite(os.path.join(benignfolder,filename), image)    "
   ]
  },
  {
   "cell_type": "code",
   "execution_count": null,
   "id": "567c098b",
   "metadata": {},
   "outputs": [],
   "source": [
    " def build_cnnmodel():\n",
    "        '''Creating a CNN model'''\n",
    "        model = Sequential()\n",
    "        \n",
    "        model.add(Conv2D(32, (3, 3), activation='relu', input_shape=(256, 256, 3)))\n",
    "        model.add(MaxPooling2D((2, 2)))\n",
    "\n",
    "        model.add(Conv2D(64, (3, 3), activation='relu'))\n",
    "        model.add(MaxPooling2D((2, 2)))\n",
    "\n",
    "        model.add(Conv2D(128, (3, 3), activation='relu'))\n",
    "        model.add(MaxPooling2D((2, 2)))\n",
    "\n",
    "        model.add(Conv2D(128, (3, 3), activation='relu'))\n",
    "        model.add(MaxPooling2D((2, 2)))\n",
    "        model.add(Dropout(0.5))\n",
    "\n",
    "        model.add(Flatten())\n",
    "        model.add(Dense(128, activation='relu'))\n",
    "        model.add(Dense(2, activation = 'sigmoid'))\n",
    "        \n",
    "        #Compile the model\n",
    "        model.compile(optimizer=Adam(learning_rate=0.001), loss='binary_crossentropy', metrics=['accuracy'])\n",
    "        \n",
    "        print(model.summary())\n",
    "        return(model)"
   ]
  },
  {
   "cell_type": "code",
   "execution_count": null,
   "id": "2ce205c3",
   "metadata": {},
   "outputs": [],
   "source": [
    "# Reading csv file\n",
    "metadata_file = \"Data/archive/HAM10000_metadata.csv\"\n",
    "metadata = metadata_read(metadata_file)"
   ]
  },
  {
   "cell_type": "code",
   "execution_count": null,
   "id": "3fff4c23",
   "metadata": {},
   "outputs": [],
   "source": [
    "# Splitting images into folders and minority class image transformations\n",
    "folder = \"Data/archive/HAM10000_images_part_1\"\n",
    "malignfolder = folder+'/malign'\n",
    "benignfolder = folder+'/benign'\n",
    "folder_label(metadata, malignfolder, benignfolder)"
   ]
  },
  {
   "cell_type": "code",
   "execution_count": null,
   "id": "837f1d43",
   "metadata": {},
   "outputs": [],
   "source": [
    "# Image Data Generator\n",
    "src_path_train = \"Data/archive/Images/train/\"\n",
    "src_path_test = \"Data/archive/Images/test/\"\n",
    "\n",
    "train_datagen = ImageDataGenerator( \n",
    "        rescale=1 / 255.0,\n",
    "        rotation_range=20,\n",
    "        zoom_range=0.05,\n",
    "        width_shift_range=0.05,\n",
    "        height_shift_range=0.05,\n",
    "        shear_range=0.05,\n",
    "        horizontal_flip=True,\n",
    "        fill_mode=\"nearest\",\n",
    "        validation_split=0.20)\n",
    "\n",
    "test_datagen = ImageDataGenerator(rescale=1 / 255.0)"
   ]
  },
  {
   "cell_type": "code",
   "execution_count": null,
   "id": "c0240ccd",
   "metadata": {
    "scrolled": false
   },
   "outputs": [],
   "source": [
    "# Splitting the train, validation and test sets\n",
    "batch_size = 8\n",
    "train_generator = train_datagen.flow_from_directory(\n",
    "    directory=src_path_train,\n",
    "    target_size=(256,256),\n",
    "    color_mode=\"rgb\",\n",
    "    batch_size=batch_size,\n",
    "    class_mode=\"categorical\",\n",
    "    subset='training',\n",
    "    shuffle=True,\n",
    "    seed=42\n",
    ")\n",
    "valid_generator = train_datagen.flow_from_directory(\n",
    "    directory=src_path_train,\n",
    "    target_size=(256,256),\n",
    "    color_mode=\"rgb\",\n",
    "    batch_size=batch_size,\n",
    "    class_mode=\"categorical\",\n",
    "    subset='validation',\n",
    "    shuffle=True,\n",
    "    seed=42\n",
    ")\n",
    "test_generator = test_datagen.flow_from_directory(\n",
    "    directory=src_path_test,\n",
    "    target_size=(256,256),\n",
    "    color_mode=\"rgb\",\n",
    "    batch_size=1,\n",
    "    class_mode=None,\n",
    "    shuffle=False,\n",
    "    seed=42\n",
    ")"
   ]
  },
  {
   "cell_type": "code",
   "execution_count": null,
   "id": "0889f48e",
   "metadata": {},
   "outputs": [],
   "source": [
    "model = build_cnnmodel()"
   ]
  },
  {
   "cell_type": "code",
   "execution_count": null,
   "id": "3d2b9536",
   "metadata": {
    "scrolled": false
   },
   "outputs": [],
   "source": [
    "# Fit the model using the generator\n",
    "\n",
    "class_weights = {0:0.4,1:1}\n",
    "history = model.fit(train_generator, \n",
    "                    steps_per_epoch=2000/32,\n",
    "                    epochs=15, \n",
    "                    class_weight = class_weights,\n",
    "                    validation_data=valid_generator,\n",
    "                    validation_steps=2000/32)"
   ]
  },
  {
   "cell_type": "code",
   "execution_count": null,
   "id": "c0a1def1",
   "metadata": {
    "scrolled": true
   },
   "outputs": [],
   "source": [
    "# Plotting the training loss and accuracy\n",
    "\n",
    "loss = history.history['loss']\n",
    "accuracy = history.history['accuracy']\n",
    "fig, axs = plt.subplots(nrows=1,ncols=2,figsize=(10,4))\n",
    "axs[0].plot(range(len(loss)), loss)\n",
    "axs[0].set(xlabel=\"Epochs\", ylabel=\"Loss\", title=\"Training loss\")\n",
    "axs[1].plot(range(len(accuracy)), accuracy)\n",
    "axs[1].set(xlabel=\"Epochs\", ylabel=\"Accuracy\", title=\"Training accuracy\")\n",
    "plt.show()"
   ]
  },
  {
   "cell_type": "code",
   "execution_count": null,
   "id": "7a3ca21e",
   "metadata": {},
   "outputs": [],
   "source": [
    "# Predicting with the model\n",
    "\n",
    "test_steps_per_epoch = np.math.ceil(test_generator.samples / test_generator.batch_size)\n",
    "predictions = model.predict(test_generator, steps=test_steps_per_epoch)\n",
    "predicted_classes = np.argmax(predictions, axis=1)\n",
    "print(predicted_classes)"
   ]
  },
  {
   "cell_type": "code",
   "execution_count": null,
   "id": "262a9114",
   "metadata": {},
   "outputs": [],
   "source": [
    "# Calculating the precision, recall and f1score\n",
    "\n",
    "true_classes = test_generator.classes\n",
    "class_labels = list(test_generator.class_indices.keys())\n",
    "report = metric.classification_report(true_classes, predicted_classes, target_names=class_labels)\n",
    "print(report)    "
   ]
  },
  {
   "cell_type": "code",
   "execution_count": null,
   "id": "fbb464c6",
   "metadata": {},
   "outputs": [],
   "source": [
    "# Calculating the confusion matrix\n",
    "cm = confusion_matrix(true_classes, predicted_classes)\n",
    "\n",
    "# Plotting the confusion matrix using seaborn\n",
    "sns.heatmap(cm, annot=True, fmt='d', cmap='YlGnBu')\n",
    "plt.xlabel('Predicted Label')\n",
    "plt.ylabel('True Label')\n",
    "plt.show()"
   ]
  },
  {
   "cell_type": "code",
   "execution_count": null,
   "id": "711ce456",
   "metadata": {},
   "outputs": [],
   "source": [
    "def classify_image(inp):\n",
    "\n",
    "  x = image.img_to_array(inp)\n",
    "  x = np.expand_dims(x, axis=0)  \n",
    "  datagen = ImageDataGenerator(rescale=1./255)\n",
    "  x = datagen.standardize(x)  \n",
    "  preds = model.predict(x)\n",
    "  pred_label = np.argmax(preds, axis=1)  \n",
    "  print(pred_label)\n",
    "  if pred_label == 0:\n",
    "    text = 'The mole seems to be benign'\n",
    "  if pred_label == 1:\n",
    "    text = 'The mole seems to be cancerous. It is advised to visit a doctor for a follow-up'\n",
    "  return text"
   ]
  },
  {
   "cell_type": "code",
   "execution_count": null,
   "id": "9986cbae",
   "metadata": {},
   "outputs": [],
   "source": [
    "description = '''Moles can be linked to skin cancer. This is especially true if you have a family history of skin cancer linked to moles. In addition to limiting your exposure to sunlight and using sunscreens, examining yourself for moles can help with early detection of melanoma (the deadliest type of skin cancer) and treatment.'''"
   ]
  },
  {
   "cell_type": "code",
   "execution_count": null,
   "id": "ab631796",
   "metadata": {},
   "outputs": [],
   "source": [
    "gr.Interface(fn=classify_image, \n",
    "                 inputs=gr.Image(shape=(256, 256)),\n",
    "             outputs=\"text\",\n",
    "             live = True,\n",
    "            title = 'SkinCare',\n",
    "            description = description).launch()"
   ]
  },
  {
   "cell_type": "code",
   "execution_count": null,
   "id": "64fbd838",
   "metadata": {},
   "outputs": [],
   "source": []
  }
 ],
 "metadata": {
  "kernelspec": {
   "display_name": "tf_mole",
   "language": "python",
   "name": "tf_mole"
  },
  "language_info": {
   "codemirror_mode": {
    "name": "ipython",
    "version": 3
   },
   "file_extension": ".py",
   "mimetype": "text/x-python",
   "name": "python",
   "nbconvert_exporter": "python",
   "pygments_lexer": "ipython3",
   "version": "3.7.16"
  }
 },
 "nbformat": 4,
 "nbformat_minor": 5
}
