{
 "cells": [
  {
   "cell_type": "code",
   "execution_count": 1,
   "id": "93197757",
   "metadata": {},
   "outputs": [
    {
     "data": {
      "text/plain": [
       "'2.3.0'"
      ]
     },
     "execution_count": 1,
     "metadata": {},
     "output_type": "execute_result"
    }
   ],
   "source": [
    "import tensorflow as tf\n",
    "tf.__version__"
   ]
  },
  {
   "cell_type": "code",
   "execution_count": 2,
   "id": "8b784e43",
   "metadata": {},
   "outputs": [],
   "source": [
    "import pandas as pd\n",
    "import numpy as np\n",
    "import tensorflow as tf\n",
    "from tensorflow import keras\n",
    "from matplotlib import pyplot as plt\n",
    "%matplotlib inline"
   ]
  },
  {
   "cell_type": "code",
   "execution_count": 3,
   "id": "16e514f0",
   "metadata": {},
   "outputs": [],
   "source": [
    "from tensorflow.keras.preprocessing.image import ImageDataGenerator\n",
    "from tensorflow.keras.models import Sequential\n",
    "from tensorflow.keras.layers import Conv2D, MaxPooling2D, Flatten, Dense"
   ]
  },
  {
   "cell_type": "code",
   "execution_count": 4,
   "id": "54fb8dea",
   "metadata": {
    "scrolled": true
   },
   "outputs": [
    {
     "data": {
      "text/html": [
       "<div>\n",
       "<style scoped>\n",
       "    .dataframe tbody tr th:only-of-type {\n",
       "        vertical-align: middle;\n",
       "    }\n",
       "\n",
       "    .dataframe tbody tr th {\n",
       "        vertical-align: top;\n",
       "    }\n",
       "\n",
       "    .dataframe thead th {\n",
       "        text-align: right;\n",
       "    }\n",
       "</style>\n",
       "<table border=\"1\" class=\"dataframe\">\n",
       "  <thead>\n",
       "    <tr style=\"text-align: right;\">\n",
       "      <th></th>\n",
       "      <th>lesion_id</th>\n",
       "      <th>image_id</th>\n",
       "      <th>dx</th>\n",
       "      <th>dx_type</th>\n",
       "      <th>age</th>\n",
       "      <th>sex</th>\n",
       "      <th>localization</th>\n",
       "      <th>label</th>\n",
       "    </tr>\n",
       "  </thead>\n",
       "  <tbody>\n",
       "    <tr>\n",
       "      <th>10010</th>\n",
       "      <td>HAM_0002867</td>\n",
       "      <td>ISIC_0033084.jpg</td>\n",
       "      <td>akiec</td>\n",
       "      <td>histo</td>\n",
       "      <td>40.0</td>\n",
       "      <td>male</td>\n",
       "      <td>abdomen</td>\n",
       "      <td>malign</td>\n",
       "    </tr>\n",
       "    <tr>\n",
       "      <th>10011</th>\n",
       "      <td>HAM_0002867</td>\n",
       "      <td>ISIC_0033550.jpg</td>\n",
       "      <td>akiec</td>\n",
       "      <td>histo</td>\n",
       "      <td>40.0</td>\n",
       "      <td>male</td>\n",
       "      <td>abdomen</td>\n",
       "      <td>malign</td>\n",
       "    </tr>\n",
       "    <tr>\n",
       "      <th>10012</th>\n",
       "      <td>HAM_0002867</td>\n",
       "      <td>ISIC_0033536.jpg</td>\n",
       "      <td>akiec</td>\n",
       "      <td>histo</td>\n",
       "      <td>40.0</td>\n",
       "      <td>male</td>\n",
       "      <td>abdomen</td>\n",
       "      <td>malign</td>\n",
       "    </tr>\n",
       "    <tr>\n",
       "      <th>10013</th>\n",
       "      <td>HAM_0000239</td>\n",
       "      <td>ISIC_0032854.jpg</td>\n",
       "      <td>akiec</td>\n",
       "      <td>histo</td>\n",
       "      <td>80.0</td>\n",
       "      <td>male</td>\n",
       "      <td>face</td>\n",
       "      <td>malign</td>\n",
       "    </tr>\n",
       "    <tr>\n",
       "      <th>10014</th>\n",
       "      <td>HAM_0003521</td>\n",
       "      <td>ISIC_0032258.jpg</td>\n",
       "      <td>mel</td>\n",
       "      <td>histo</td>\n",
       "      <td>70.0</td>\n",
       "      <td>female</td>\n",
       "      <td>back</td>\n",
       "      <td>malign</td>\n",
       "    </tr>\n",
       "  </tbody>\n",
       "</table>\n",
       "</div>"
      ],
      "text/plain": [
       "         lesion_id          image_id     dx dx_type   age     sex  \\\n",
       "10010  HAM_0002867  ISIC_0033084.jpg  akiec   histo  40.0    male   \n",
       "10011  HAM_0002867  ISIC_0033550.jpg  akiec   histo  40.0    male   \n",
       "10012  HAM_0002867  ISIC_0033536.jpg  akiec   histo  40.0    male   \n",
       "10013  HAM_0000239  ISIC_0032854.jpg  akiec   histo  80.0    male   \n",
       "10014  HAM_0003521  ISIC_0032258.jpg    mel   histo  70.0  female   \n",
       "\n",
       "      localization   label  \n",
       "10010      abdomen  malign  \n",
       "10011      abdomen  malign  \n",
       "10012      abdomen  malign  \n",
       "10013         face  malign  \n",
       "10014         back  malign  "
      ]
     },
     "execution_count": 4,
     "metadata": {},
     "output_type": "execute_result"
    }
   ],
   "source": [
    "metadata_file = \"C:/Users/nicyj/becode/Challenge_Mole/Data/archive/HAM10000_metadata.csv\"\n",
    "metadata = pd.read_csv(metadata_file)\n",
    "metadata = metadata.dropna(subset=['age'])\n",
    "list_of_mal = ['akiec','bcc', 'mel']\n",
    "# malign - 1\n",
    "# benign - 0\n",
    "metadata['label'] = np.where(metadata['dx'].isin(list_of_mal),'malign', None)\n",
    "metadata = metadata.replace({'label': {None: 'benign'}})\n",
    "metadata[\"image_id\"] = metadata[\"image_id\"].apply(lambda x: x + \".jpg\")\n",
    "metadata.tail()"
   ]
  },
  {
   "cell_type": "code",
   "execution_count": 10,
   "id": "5ccfdd52",
   "metadata": {},
   "outputs": [],
   "source": [
    "import os\n",
    "import cv2\n",
    "\n",
    "folder = \"C:/Users/nicyj/becode/Challenge_Mole/Data/archive/HAM10000_images_part_1\"\n",
    "\n",
    "malignfolder = folder+'/malign'\n",
    "malign_images = metadata[metadata['label'] == 'malign']['image_id'].to_list()\n",
    "\n",
    "for filename in malign_images:\n",
    "    image = cv2.imread(os.path.join(folder, filename))\n",
    "    cv2.imwrite(os.path.join(malignfolder,filename), image) # original image\n",
    "    flip_image = cv2.flip(image, flipCode=cv2.ROTATE_180)\n",
    "    flip_filename = 'flip'+filename\n",
    "    cv2.imwrite(os.path.join(malignfolder, flip_filename), flip_image) # flipped image\n",
    "    rotate_image = cv2.flip(image, flipCode=cv2.ROTATE_90_CLOCKWISE)\n",
    "    rotate_filename = 'rotate'+filename\n",
    "    cv2.imwrite(os.path.join(malignfolder, rotate_filename), rotate_image) # rotated image\n",
    "\n",
    "benignfolder = folder+'/benign'\n",
    "benign_images = metadata[metadata['label'] == 'benign']['image_id'].to_list()\n",
    "\n",
    "for filename in benign_images:\n",
    "    image = cv2.imread(os.path.join(folder, filename))\n",
    "    cv2.imwrite(os.path.join(benignfolder,filename), image)    \n"
   ]
  },
  {
   "cell_type": "code",
   "execution_count": 5,
   "id": "37fc0c1a",
   "metadata": {},
   "outputs": [],
   "source": [
    "from tensorflow.keras.models import Sequential\n",
    "from tensorflow.keras.layers import Conv2D, MaxPooling2D, Flatten, Dense, Dropout\n",
    "from tensorflow.keras.optimizers import Adam\n",
    "from tensorflow.keras.preprocessing.image import ImageDataGenerator"
   ]
  },
  {
   "cell_type": "code",
   "execution_count": 6,
   "id": "837f1d43",
   "metadata": {},
   "outputs": [],
   "source": [
    "src_path_train = \"C:/Users/nicyj/becode/Challenge_Mole/Data/archive/Images/train/\"\n",
    "src_path_test = \"C:/Users/nicyj/becode/Challenge_Mole/Data/archive/Images/test/\"\n",
    "\n",
    "train_datagen = ImageDataGenerator(\n",
    "        rescale=1 / 255.0,\n",
    "        rotation_range=20,\n",
    "        zoom_range=0.05,\n",
    "        width_shift_range=0.05,\n",
    "        height_shift_range=0.05,\n",
    "        shear_range=0.05,\n",
    "        horizontal_flip=True,\n",
    "        fill_mode=\"nearest\",\n",
    "        validation_split=0.20)\n",
    "\n",
    "test_datagen = ImageDataGenerator(rescale=1 / 255.0)"
   ]
  },
  {
   "cell_type": "code",
   "execution_count": 7,
   "id": "c0240ccd",
   "metadata": {},
   "outputs": [
    {
     "name": "stdout",
     "output_type": "stream",
     "text": [
      "Found 11090 images belonging to 2 classes.\n",
      "Found 2772 images belonging to 2 classes.\n",
      "Found 48 images belonging to 2 classes.\n"
     ]
    }
   ],
   "source": [
    "batch_size = 8\n",
    "train_generator = train_datagen.flow_from_directory(\n",
    "    directory=src_path_train,\n",
    "    target_size=(256,256),\n",
    "    color_mode=\"rgb\",\n",
    "    batch_size=batch_size,\n",
    "    class_mode=\"categorical\",\n",
    "    subset='training',\n",
    "    shuffle=True,\n",
    "    seed=42\n",
    ")\n",
    "valid_generator = train_datagen.flow_from_directory(\n",
    "    directory=src_path_train,\n",
    "    target_size=(256,256),\n",
    "    color_mode=\"rgb\",\n",
    "    batch_size=batch_size,\n",
    "    class_mode=\"categorical\",\n",
    "    subset='validation',\n",
    "    shuffle=True,\n",
    "    seed=42\n",
    ")\n",
    "test_generator = test_datagen.flow_from_directory(\n",
    "    directory=src_path_test,\n",
    "    target_size=(256,256),\n",
    "    color_mode=\"rgb\",\n",
    "    batch_size=1,\n",
    "    class_mode=None,\n",
    "    shuffle=False,\n",
    "    seed=42\n",
    ")"
   ]
  },
  {
   "cell_type": "code",
   "execution_count": 12,
   "id": "5e4678df",
   "metadata": {},
   "outputs": [],
   "source": [
    "from tensorflow.keras.models import Sequential\n",
    "from tensorflow.keras.layers import Conv2D, MaxPooling2D, Flatten, Dense, Dropout\n",
    "from tensorflow.keras.optimizers import Adam\n",
    "\n",
    "# Create a CNN model\n",
    "model = Sequential()\n",
    "\n",
    "model.add(Conv2D(32, (3, 3), activation='relu', input_shape=(256, 256, 3)))\n",
    "model.add(MaxPooling2D((2, 2)))\n",
    "\n",
    "model.add(Conv2D(64, (3, 3), activation='relu'))\n",
    "model.add(MaxPooling2D((2, 2)))\n",
    "\n",
    "model.add(Conv2D(128, (3, 3), activation='relu'))\n",
    "model.add(MaxPooling2D((2, 2)))\n",
    "\n",
    "model.add(Conv2D(128, (3, 3), activation='relu'))\n",
    "model.add(MaxPooling2D((2, 2)))\n",
    "model.add(Dropout(0.5))\n",
    "\n",
    "model.add(Flatten())\n",
    "model.add(Dense(128, activation='relu'))\n",
    "model.add(Dense(2, activation = 'sigmoid'))\n",
    "\n",
    "#Compile the model\n",
    "model.compile(optimizer=Adam(learning_rate=0.001), loss='binary_crossentropy', metrics=['accuracy'])\n"
   ]
  },
  {
   "cell_type": "code",
   "execution_count": 13,
   "id": "6a4875a3",
   "metadata": {},
   "outputs": [
    {
     "name": "stdout",
     "output_type": "stream",
     "text": [
      "Model: \"sequential_1\"\n",
      "_________________________________________________________________\n",
      "Layer (type)                 Output Shape              Param #   \n",
      "=================================================================\n",
      "conv2d_4 (Conv2D)            (None, 254, 254, 32)      896       \n",
      "_________________________________________________________________\n",
      "max_pooling2d_4 (MaxPooling2 (None, 127, 127, 32)      0         \n",
      "_________________________________________________________________\n",
      "conv2d_5 (Conv2D)            (None, 125, 125, 64)      18496     \n",
      "_________________________________________________________________\n",
      "max_pooling2d_5 (MaxPooling2 (None, 62, 62, 64)        0         \n",
      "_________________________________________________________________\n",
      "conv2d_6 (Conv2D)            (None, 60, 60, 128)       73856     \n",
      "_________________________________________________________________\n",
      "max_pooling2d_6 (MaxPooling2 (None, 30, 30, 128)       0         \n",
      "_________________________________________________________________\n",
      "conv2d_7 (Conv2D)            (None, 28, 28, 128)       147584    \n",
      "_________________________________________________________________\n",
      "max_pooling2d_7 (MaxPooling2 (None, 14, 14, 128)       0         \n",
      "_________________________________________________________________\n",
      "dropout_3 (Dropout)          (None, 14, 14, 128)       0         \n",
      "_________________________________________________________________\n",
      "flatten_1 (Flatten)          (None, 25088)             0         \n",
      "_________________________________________________________________\n",
      "dense_2 (Dense)              (None, 128)               3211392   \n",
      "_________________________________________________________________\n",
      "dense_3 (Dense)              (None, 2)                 258       \n",
      "=================================================================\n",
      "Total params: 3,452,482\n",
      "Trainable params: 3,452,482\n",
      "Non-trainable params: 0\n",
      "_________________________________________________________________\n"
     ]
    }
   ],
   "source": [
    "model.summary()"
   ]
  },
  {
   "cell_type": "code",
   "execution_count": 14,
   "id": "3d2b9536",
   "metadata": {
    "scrolled": false
   },
   "outputs": [
    {
     "name": "stdout",
     "output_type": "stream",
     "text": [
      "Epoch 1/15\n",
      "63/62 [==============================] - 77s 1s/step - loss: 0.4214 - accuracy: 0.4365 - val_loss: 0.7539 - val_accuracy: 0.4385\n",
      "Epoch 2/15\n",
      "63/62 [==============================] - 68s 1s/step - loss: 0.3980 - accuracy: 0.5655 - val_loss: 0.8962 - val_accuracy: 0.4405\n",
      "Epoch 3/15\n",
      "63/62 [==============================] - 69s 1s/step - loss: 0.3936 - accuracy: 0.5377 - val_loss: 0.5727 - val_accuracy: 0.6508\n",
      "Epoch 4/15\n",
      "63/62 [==============================] - 66s 1s/step - loss: 0.3726 - accuracy: 0.6210 - val_loss: 0.9384 - val_accuracy: 0.4762\n",
      "Epoch 5/15\n",
      "63/62 [==============================] - 66s 1s/step - loss: 0.3763 - accuracy: 0.6151 - val_loss: 0.6355 - val_accuracy: 0.6806\n",
      "Epoch 6/15\n",
      "63/62 [==============================] - 63s 1s/step - loss: 0.3640 - accuracy: 0.6250 - val_loss: 0.6024 - val_accuracy: 0.6488\n",
      "Epoch 7/15\n",
      "63/62 [==============================] - 69s 1s/step - loss: 0.4011 - accuracy: 0.5556 - val_loss: 0.5397 - val_accuracy: 0.6984\n",
      "Epoch 8/15\n",
      "63/62 [==============================] - 67s 1s/step - loss: 0.3477 - accuracy: 0.6746 - val_loss: 0.5726 - val_accuracy: 0.6786\n",
      "Epoch 9/15\n",
      "63/62 [==============================] - 65s 1s/step - loss: 0.4029 - accuracy: 0.5357 - val_loss: 0.7428 - val_accuracy: 0.5754\n",
      "Epoch 10/15\n",
      "63/62 [==============================] - 66s 1s/step - loss: 0.3599 - accuracy: 0.6091 - val_loss: 0.5119 - val_accuracy: 0.7401\n",
      "Epoch 11/15\n",
      "63/62 [==============================] - 66s 1s/step - loss: 0.3683 - accuracy: 0.5476 - val_loss: 0.6924 - val_accuracy: 0.4444\n",
      "Epoch 12/15\n",
      "63/62 [==============================] - 69s 1s/step - loss: 0.3813 - accuracy: 0.5694 - val_loss: 0.9111 - val_accuracy: 0.5040\n",
      "Epoch 13/15\n",
      "63/62 [==============================] - 73s 1s/step - loss: 0.3901 - accuracy: 0.5575 - val_loss: 1.0355 - val_accuracy: 0.4623\n",
      "Epoch 14/15\n",
      "63/62 [==============================] - 63s 1s/step - loss: 0.3876 - accuracy: 0.5635 - val_loss: 0.6132 - val_accuracy: 0.6448\n",
      "Epoch 15/15\n",
      "63/62 [==============================] - 34s 544ms/step - loss: 0.3697 - accuracy: 0.6071 - val_loss: 0.7374 - val_accuracy: 0.5694\n"
     ]
    }
   ],
   "source": [
    "class_weights = {0:0.4,1:1}\n",
    "# Fit the model using the generator\n",
    "history = model.fit(train_generator, \n",
    "                    steps_per_epoch=2000/32,\n",
    "                    epochs=15, \n",
    "                    class_weight = class_weights,\n",
    "                    validation_data=valid_generator,\n",
    "                    validation_steps=2000/32)"
   ]
  },
  {
   "cell_type": "code",
   "execution_count": 15,
   "id": "c0a1def1",
   "metadata": {
    "scrolled": true
   },
   "outputs": [
    {
     "data": {
      "image/png": "[encoded data removed]",
      "text/plain": [
       "<Figure size 1000x400 with 2 Axes>"
      ]
     },
     "metadata": {},
     "output_type": "display_data"
    }
   ],
   "source": [
    "loss = history.history['loss']\n",
    "accuracy = history.history['accuracy']\n",
    "\n",
    "fig, axs = plt.subplots(nrows=1,ncols=2,figsize=(10,4))\n",
    "axs[0].plot(range(len(loss)), loss)\n",
    "axs[0].set(xlabel=\"Epochs\", ylabel=\"Loss\", title=\"Training loss\")\n",
    "axs[1].plot(range(len(accuracy)), accuracy)\n",
    "axs[1].set(xlabel=\"Epochs\", ylabel=\"Accuracy\", title=\"Training accuracy\")\n",
    "plt.show()"
   ]
  },
  {
   "cell_type": "code",
   "execution_count": 16,
   "id": "bad14eac",
   "metadata": {},
   "outputs": [
    {
     "name": "stdout",
     "output_type": "stream",
     "text": [
      "347/347 [==============================] - 55s 157ms/step - loss: 0.7185 - accuracy: 0.5895\n",
      "Validation loss: 0.7185378670692444\n",
      "Validation accuracy: 0.5894660949707031\n"
     ]
    }
   ],
   "source": [
    "score = model.evaluate(valid_generator)\n",
    "print('Validation loss:', score[0])\n",
    "print('Validation accuracy:', score[1])"
   ]
  },
  {
   "cell_type": "code",
   "execution_count": 17,
   "id": "7a3ca21e",
   "metadata": {},
   "outputs": [],
   "source": [
    "test_steps_per_epoch = np.math.ceil(test_generator.samples / test_generator.batch_size)\n",
    "\n",
    "predictions = model.predict(test_generator, steps=test_steps_per_epoch)\n",
    "# Get most likely class\n",
    "predicted_classes = np.argmax(predictions, axis=1)"
   ]
  },
  {
   "cell_type": "code",
   "execution_count": 18,
   "id": "25778fbd",
   "metadata": {},
   "outputs": [
    {
     "name": "stdout",
     "output_type": "stream",
     "text": [
      "[0 0 0 0 0 1 1 0 1 1 1 0 1 0 1 0 0 0 1 1 0 1 1 1 1 1 1 1 1 1 1 1 1 1 1 1 1\n",
      " 1 1 1 1 1 1 1 1 1 1 1]\n"
     ]
    }
   ],
   "source": [
    "print(predicted_classes)"
   ]
  },
  {
   "cell_type": "code",
   "execution_count": 19,
   "id": "4fa722d2",
   "metadata": {},
   "outputs": [],
   "source": [
    "true_classes = test_generator.classes\n",
    "class_labels = list(test_generator.class_indices.keys())"
   ]
  },
  {
   "cell_type": "code",
   "execution_count": 20,
   "id": "262a9114",
   "metadata": {},
   "outputs": [
    {
     "name": "stdout",
     "output_type": "stream",
     "text": [
      "              precision    recall  f1-score   support\n",
      "\n",
      "      benign       1.00      0.50      0.67        24\n",
      "      malign       0.67      1.00      0.80        24\n",
      "\n",
      "    accuracy                           0.75        48\n",
      "   macro avg       0.83      0.75      0.73        48\n",
      "weighted avg       0.83      0.75      0.73        48\n",
      "\n"
     ]
    }
   ],
   "source": [
    "import sklearn.metrics as metrics\n",
    "\n",
    "report = metrics.classification_report(true_classes, predicted_classes, target_names=class_labels)\n",
    "print(report)    "
   ]
  },
  {
   "cell_type": "code",
   "execution_count": 21,
   "id": "fbb464c6",
   "metadata": {},
   "outputs": [
    {
     "data": {
      "image/png": "[encoded data removed]",
      "text/plain": [
       "<Figure size 640x480 with 2 Axes>"
      ]
     },
     "metadata": {},
     "output_type": "display_data"
    }
   ],
   "source": [
    "import seaborn as sns\n",
    "import matplotlib.pyplot as plt\n",
    "from sklearn.metrics import confusion_matrix\n",
    "\n",
    "# Calculate the confusion matrix\n",
    "cm = confusion_matrix(true_classes, predicted_classes)\n",
    "\n",
    "# Plot the confusion matrix using seaborn\n",
    "sns.heatmap(cm, annot=True, fmt='d', cmap='YlGnBu')\n",
    "plt.xlabel('Predicted Label')\n",
    "plt.ylabel('True Label')\n",
    "plt.show()"
   ]
  },
  {
   "cell_type": "code",
   "execution_count": 22,
   "id": "c56711cd",
   "metadata": {},
   "outputs": [],
   "source": [
    "import gradio as gr\n",
    "import numpy as np\n",
    "from tensorflow.keras.preprocessing import image"
   ]
  },
  {
   "cell_type": "code",
   "execution_count": 23,
   "id": "711ce456",
   "metadata": {},
   "outputs": [],
   "source": [
    "def classify_image(inp):\n",
    "\n",
    "  x = image.img_to_array(inp)\n",
    "  x = np.expand_dims(x, axis=0)  \n",
    "  datagen = ImageDataGenerator(rescale=1./255)\n",
    "  x = datagen.standardize(x)  \n",
    "  preds = model.predict(x)\n",
    "  pred_label = np.argmax(preds, axis=1)  \n",
    "  print(pred_label)\n",
    "  if pred_label == 0:\n",
    "    text = 'The mole seems to be benign'\n",
    "  if pred_label == 1:\n",
    "    text = 'The mole seems to be cancerous. It is advised to visit a doctor for a follow-up'\n",
    "  return text"
   ]
  },
  {
   "cell_type": "code",
   "execution_count": 24,
   "id": "9986cbae",
   "metadata": {},
   "outputs": [],
   "source": [
    "description = '''Moles can be linked to skin cancer. This is especially true if you have a family history of skin cancer linked to moles. In addition to limiting your exposure to sunlight and using sunscreens, examining yourself for moles can help with early detection of melanoma (the deadliest type of skin cancer) and treatment.'''"
   ]
  },
  {
   "cell_type": "code",
   "execution_count": 25,
   "id": "ab631796",
   "metadata": {},
   "outputs": [
    {
     "name": "stdout",
     "output_type": "stream",
     "text": [
      "Running on local URL:  http://127.0.0.1:7860\n",
      "\n",
      "To create a public link, set `share=True` in `launch()`.\n"
     ]
    },
    {
     "data": {
      "text/html": [
       "<div><iframe src=\"http://127.0.0.1:7860/\" width=\"100%\" height=\"500\" allow=\"autoplay; camera; microphone; clipboard-read; clipboard-write;\" frameborder=\"0\" allowfullscreen></iframe></div>"
      ],
      "text/plain": [
       "<IPython.core.display.HTML object>"
      ]
     },
     "metadata": {},
     "output_type": "display_data"
    },
    {
     "data": {
      "text/plain": []
     },
     "execution_count": 25,
     "metadata": {},
     "output_type": "execute_result"
    },
    {
     "name": "stdout",
     "output_type": "stream",
     "text": [
      "[1]\n"
     ]
    },
    {
     "name": "stderr",
     "output_type": "stream",
     "text": [
      "Traceback (most recent call last):\n",
      "  File \"C:\\Users\\nicyj\\miniconda3\\envs\\tf_mole\\lib\\site-packages\\gradio\\routes.py\", line 343, in run_predict\n",
      "    event_id=event_id,\n",
      "  File \"C:\\Users\\nicyj\\miniconda3\\envs\\tf_mole\\lib\\site-packages\\gradio\\blocks.py\", line 1016, in process_api\n",
      "    fn_index, inputs, iterator, request, event_id\n",
      "  File \"C:\\Users\\nicyj\\miniconda3\\envs\\tf_mole\\lib\\site-packages\\gradio\\blocks.py\", line 834, in call_function\n",
      "    fn, *processed_input, limiter=self.limiter\n",
      "  File \"C:\\Users\\nicyj\\miniconda3\\envs\\tf_mole\\lib\\site-packages\\anyio\\to_thread.py\", line 29, in run_sync\n",
      "    limiter=limiter)\n",
      "  File \"C:\\Users\\nicyj\\miniconda3\\envs\\tf_mole\\lib\\site-packages\\anyio\\_backends\\_asyncio.py\", line 818, in run_sync_in_worker_thread\n",
      "    return await future\n",
      "  File \"C:\\Users\\nicyj\\miniconda3\\envs\\tf_mole\\lib\\site-packages\\anyio\\_backends\\_asyncio.py\", line 754, in run\n",
      "    result = context.run(func, *args)\n",
      "  File \"C:\\Users\\nicyj\\AppData\\Local\\Temp\\ipykernel_21692\\809273695.py\", line 3, in classify_image\n",
      "    x = image.img_to_array(inp)\n",
      "  File \"C:\\Users\\nicyj\\miniconda3\\envs\\tf_mole\\lib\\site-packages\\tensorflow\\python\\keras\\preprocessing\\image.py\", line 233, in img_to_array\n",
      "    return image.img_to_array(img, data_format=data_format, **kwargs)\n",
      "  File \"C:\\Users\\nicyj\\miniconda3\\envs\\tf_mole\\lib\\site-packages\\keras_preprocessing\\image\\utils.py\", line 319, in img_to_array\n",
      "    raise ValueError('Unsupported image shape: %s' % (x.shape,))\n",
      "ValueError: Unsupported image shape: ()\n"
     ]
    },
    {
     "name": "stdout",
     "output_type": "stream",
     "text": [
      "[0]\n"
     ]
    }
   ],
   "source": [
    "gr.Interface(fn=classify_image, \n",
    "                 inputs=gr.Image(shape=(256, 256)),\n",
    "             outputs=\"text\",\n",
    "             live = True,\n",
    "            title = 'SkinCare',\n",
    "            description = description).launch()"
   ]
  },
  {
   "cell_type": "code",
   "execution_count": null,
   "id": "64fbd838",
   "metadata": {},
   "outputs": [],
   "source": []
  }
 ],
 "metadata": {
  "kernelspec": {
   "display_name": "tf_mole",
   "language": "python",
   "name": "tf_mole"
  },
  "language_info": {
   "codemirror_mode": {
    "name": "ipython",
    "version": 3
   },
   "file_extension": ".py",
   "mimetype": "text/x-python",
   "name": "python",
   "nbconvert_exporter": "python",
   "pygments_lexer": "ipython3",
   "version": "3.7.16"
  }
 },
 "nbformat": 4,
 "nbformat_minor": 5
}
