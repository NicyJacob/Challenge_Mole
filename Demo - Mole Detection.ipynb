{
 "cells": [
  {
   "cell_type": "code",
   "execution_count": 1,
   "id": "50341bb5",
   "metadata": {
    "scrolled": true
   },
   "outputs": [],
   "source": [
    "import gradio as gr\n",
    "import numpy as np\n",
    "import joblib\n",
    "import tensorflow as tf\n",
    "from tensorflow.keras.preprocessing import image\n",
    "from tensorflow.keras.preprocessing.image import ImageDataGenerator"
   ]
  },
  {
   "cell_type": "code",
   "execution_count": 2,
   "id": "ac468d24",
   "metadata": {},
   "outputs": [],
   "source": [
    "def classify_image(inp):\n",
    "\n",
    "  x = image.img_to_array(inp)\n",
    "  x = np.expand_dims(x, axis=0)  \n",
    "  datagen = ImageDataGenerator(rescale=1./255)\n",
    "  x = datagen.standardize(x)\n",
    "  # Load the saved .h5 file using joblib\n",
    "  model_file = joblib.load(\"model.joblib\")\n",
    "  # Load the model from the .h5 file\n",
    "  model = tf.keras.models.load_model(model_file)   \n",
    "  preds = model.predict(x)\n",
    "  pred_label = np.argmax(preds, axis=1)  \n",
    "  print(pred_label)\n",
    "  if pred_label == 0:\n",
    "    text = 'The mole seems to be benign'\n",
    "  if pred_label == 1:\n",
    "    text = 'The mole seems to be cancerous. It is advised to visit a doctor for a follow-up'\n",
    "  return text"
   ]
  },
  {
   "cell_type": "code",
   "execution_count": 5,
   "id": "8b974e43",
   "metadata": {},
   "outputs": [],
   "source": [
    "description = '''Moles can be linked to skin cancer. This is especially true if you have a family history of skin cancer linked to moles. In addition to limiting your exposure to sunlight and using sunscreens, examining yourself for moles can help with early detection of melanoma (the deadliest type of skin cancer) and treatment.\n",
    "\n",
    "                Instruction: Upload a close-up photo of your skin condition(mole)'''"
   ]
  },
  {
   "cell_type": "code",
   "execution_count": 6,
   "id": "d6f050dd",
   "metadata": {},
   "outputs": [
    {
     "name": "stdout",
     "output_type": "stream",
     "text": [
      "Running on local URL:  http://127.0.0.1:7862\n",
      "\n",
      "To create a public link, set `share=True` in `launch()`.\n"
     ]
    },
    {
     "data": {
      "text/html": [
       "<div><iframe src=\"http://127.0.0.1:7862/\" width=\"100%\" height=\"500\" allow=\"autoplay; camera; microphone; clipboard-read; clipboard-write;\" frameborder=\"0\" allowfullscreen></iframe></div>"
      ],
      "text/plain": [
       "<IPython.core.display.HTML object>"
      ]
     },
     "metadata": {},
     "output_type": "display_data"
    },
    {
     "data": {
      "text/plain": []
     },
     "execution_count": 6,
     "metadata": {},
     "output_type": "execute_result"
    }
   ],
   "source": [
    "gr.Interface(fn=classify_image, \n",
    "                 inputs=gr.Image(shape=(256, 256)),\n",
    "             outputs=\"text\",\n",
    "             live = True,\n",
    "            title = 'SkinCare',\n",
    "            description = description).launch()"
   ]
  },
  {
   "cell_type": "code",
   "execution_count": null,
   "id": "b14f5636",
   "metadata": {},
   "outputs": [],
   "source": []
  }
 ],
 "metadata": {
  "kernelspec": {
   "display_name": "tf_mole",
   "language": "python",
   "name": "tf_mole"
  },
  "language_info": {
   "codemirror_mode": {
    "name": "ipython",
    "version": 3
   },
   "file_extension": ".py",
   "mimetype": "text/x-python",
   "name": "python",
   "nbconvert_exporter": "python",
   "pygments_lexer": "ipython3",
   "version": "3.7.16"
  }
 },
 "nbformat": 4,
 "nbformat_minor": 5
}
